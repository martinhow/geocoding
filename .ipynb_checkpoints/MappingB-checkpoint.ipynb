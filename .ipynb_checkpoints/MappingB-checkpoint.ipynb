{
 "cells": [
  {
   "cell_type": "code",
   "execution_count": 1,
   "metadata": {
    "collapsed": false
   },
   "outputs": [],
   "source": [
    "import matplotlib as mpl\n",
    "%matplotlib inline\n",
    "import matplotlib.pyplot as plt\n",
    "import numpy as np\n",
    "import pandas as pd\n",
    "from mpl_toolkits.basemap import Basemap"
   ]
  },
  {
   "cell_type": "code",
   "execution_count": 2,
   "metadata": {
    "collapsed": false,
    "scrolled": true
   },
   "outputs": [],
   "source": [
    "pharmacy_full = pd.read_csv('pharmacy_address_indep.csv')\n",
    "# pharmacy_full.head()"
   ]
  },
  {
   "cell_type": "code",
   "execution_count": 3,
   "metadata": {
    "collapsed": false,
    "scrolled": true
   },
   "outputs": [],
   "source": [
    "pharmacy_crop = pharmacy_full.drop(pharmacy_full[[0,2,3,4,5,6,8]],axis=1)\n",
    "# pharmacy_crop.head()"
   ]
  },
  {
   "cell_type": "code",
   "execution_count": 4,
   "metadata": {
    "collapsed": false
   },
   "outputs": [],
   "source": [
    "import sys\n",
    "import time\n",
    "import requests\n",
    "import json"
   ]
  },
  {
   "cell_type": "code",
   "execution_count": 5,
   "metadata": {
    "collapsed": false
   },
   "outputs": [
    {
     "name": "stdout",
     "output_type": "stream",
     "text": [
      "7460 postcodes, requiring 75 requests\n",
      "...........................................................................finished lat long queries\n"
     ]
    }
   ],
   "source": [
    "postcodes = pharmacy_crop['Postcode']\n",
    "query_codes = postcodes.tolist()\n",
    "\n",
    "max_postcodes = 100\n",
    "number_queries = np.ceil(float(len(query_codes))/max_postcodes)\n",
    "print ('%d postcodes, requiring %d requests'% (len(query_codes),number_queries))\n",
    "\n",
    "url = 'http://api.postcodes.io/postcodes'\n",
    "headers = {'content-type':'application/json'}\n",
    "\n",
    "lats = []\n",
    "longs = []\n",
    "\n",
    "for iquery in range(int(number_queries)):\n",
    "    min_query = iquery*max_postcodes\n",
    "    max_query = min((iquery+1)*max_postcodes, len(query_codes))\n",
    "    \n",
    "    payload = {'postcodes': query_codes[min_query:max_query]}\n",
    "    r = requests.post(url, data = json.dumps(payload), headers = headers)\n",
    "    \n",
    "    time.sleep(0.1)\n",
    "    if r.status_code is 200:\n",
    "        return_data = r.json()\n",
    "        sys.stdout.write('.')\n",
    "    else:\n",
    "        print ('Query failed, status: %d' % r.status_code)\n",
    "        \n",
    "    result = return_data['result']\n",
    "    lats += [result[idx]['result']['latitude'] if result[idx]['result'] is not None else np.nan for idx in range(len(result))]\n",
    "    longs += [result[idx]['result']['longitude'] if result[idx]['result'] is not None else np.nan for idx in range(len(result))]\n",
    "    \n",
    "print ('finished lat long queries')"
   ]
  },
  {
   "cell_type": "code",
   "execution_count": 6,
   "metadata": {
    "collapsed": false
   },
   "outputs": [
    {
     "ename": "NameError",
     "evalue": "name 'right_map_boarder' is not defined",
     "output_type": "error",
     "traceback": [
      "\u001b[0;31m---------------------------------------------------------------------------\u001b[0m",
      "\u001b[0;31mNameError\u001b[0m                                 Traceback (most recent call last)",
      "\u001b[0;32m<ipython-input-6-a395bffa0449>\u001b[0m in \u001b[0;36m<module>\u001b[0;34m()\u001b[0m\n\u001b[1;32m     16\u001b[0m \u001b[0mwidth\u001b[0m \u001b[0;34m=\u001b[0m \u001b[0;36m50\u001b[0m\u001b[0;34m\u001b[0m\u001b[0m\n\u001b[1;32m     17\u001b[0m \u001b[0mheight\u001b[0m \u001b[0;34m=\u001b[0m \u001b[0;36m70\u001b[0m\u001b[0;34m\u001b[0m\u001b[0m\n\u001b[0;32m---> 18\u001b[0;31m \u001b[0madj\u001b[0m \u001b[0;34m=\u001b[0m \u001b[0mright_map_boarder\u001b[0m \u001b[0;34m+\u001b[0m \u001b[0mleft_map_boarder\u001b[0m\u001b[0;34m\u001b[0m\u001b[0m\n\u001b[0m\u001b[1;32m     19\u001b[0m \u001b[0;34m\u001b[0m\u001b[0m\n\u001b[1;32m     20\u001b[0m \u001b[0madj_longs\u001b[0m \u001b[0;34m=\u001b[0m \u001b[0;34m[\u001b[0m\u001b[0madj\u001b[0m\u001b[0;34m-\u001b[0m\u001b[0mlongs\u001b[0m \u001b[0;32mfor\u001b[0m \u001b[0mlongs\u001b[0m \u001b[0;32min\u001b[0m \u001b[0mlongs\u001b[0m\u001b[0;34m]\u001b[0m\u001b[0;34m\u001b[0m\u001b[0m\n",
      "\u001b[0;31mNameError\u001b[0m: name 'right_map_boarder' is not defined"
     ]
    }
   ],
   "source": [
    "#plotting pharmacy addresses on GB map\n",
    "from IPython.display import set_matplotlib_formats\n",
    "set_matplotlib_formats('retina')\n",
    "import warnings\n",
    "warnings.simplefilter(action=\"ignore\",category=FutureWarning)\n",
    "\n",
    "top_right_lat = 58.832069\n",
    "botton_left_lat = 49.767981\n",
    "bottom_left_lon = -6.784492\n",
    "top_right_lon = 2.0\n",
    "map = Basemap (urcrnrlat = top_right_lat,\n",
    "               urcrnrlon = bottom_left_lon,\n",
    "               llcrnrlat = botton_left_lat,\n",
    "               llcrnrlon = top_right_lon,\n",
    "               epsg = 3857)\n",
    "width = 50\n",
    "height = 70\n",
    "adj = right_map_boarder + left_map_boarder\n",
    "\n",
    "adj_longs = [adj-longs for longs in longs]\n",
    "x, y = map(adj_longs, lats)\n",
    "\n",
    "fig = plt.gcf()\n",
    "fig.set_size_inches(width,height);\n",
    "\n",
    "dpi = 800\n",
    "xpixels = dpi * width\n",
    "\n",
    "# http://server.arcgisonline.com/ArcGIS/rest/services\n",
    "map.arcgisimage(service='World_Street_Map', xpixels=xpixels) \n",
    "map.scatter (x, y, c = 'r', alpha = 0.20, marker = 's', s=20, linewidths = 0)\n",
    "\n",
    "plt.show();"
   ]
  },
  {
   "cell_type": "code",
   "execution_count": null,
   "metadata": {
    "collapsed": true
   },
   "outputs": [],
   "source": []
  },
  {
   "cell_type": "code",
   "execution_count": null,
   "metadata": {
    "collapsed": true
   },
   "outputs": [],
   "source": []
  }
 ],
 "metadata": {
  "anaconda-cloud": {},
  "kernelspec": {
   "display_name": "Python [default]",
   "language": "python",
   "name": "python2"
  },
  "language_info": {
   "codemirror_mode": {
    "name": "ipython",
    "version": 2
   },
   "file_extension": ".py",
   "mimetype": "text/x-python",
   "name": "python",
   "nbconvert_exporter": "python",
   "pygments_lexer": "ipython2",
   "version": "2.7.12"
  }
 },
 "nbformat": 4,
 "nbformat_minor": 1
}
